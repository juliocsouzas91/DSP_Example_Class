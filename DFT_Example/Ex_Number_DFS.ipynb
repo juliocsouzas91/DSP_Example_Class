{
 "cells": [
  {
   "cell_type": "code",
   "execution_count": 3,
   "id": "d07e5f53",
   "metadata": {},
   "outputs": [],
   "source": [
    "import time\n",
    "import numpy as np\n",
    "from plot_setup import *\n",
    "import matplotlib.pylab as plt\n",
    "from IPython.display import HTML\n",
    "from matplotlib import animation\n",
    "from continuously_signal import *\n",
    "\n",
    "define_plots_settings()\n",
    "%matplotlib inline"
   ]
  },
  {
   "cell_type": "code",
   "execution_count": null,
   "id": "93500bb5",
   "metadata": {},
   "outputs": [],
   "source": []
  }
 ],
 "metadata": {
  "kernelspec": {
   "display_name": "Python 3 (ipykernel)",
   "language": "python",
   "name": "python3"
  },
  "language_info": {
   "codemirror_mode": {
    "name": "ipython",
    "version": 3
   },
   "file_extension": ".py",
   "mimetype": "text/x-python",
   "name": "python",
   "nbconvert_exporter": "python",
   "pygments_lexer": "ipython3",
   "version": "3.9.12"
  }
 },
 "nbformat": 4,
 "nbformat_minor": 5
}
